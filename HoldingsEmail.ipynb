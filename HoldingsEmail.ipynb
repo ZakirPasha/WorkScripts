{
 "cells": [
  {
   "cell_type": "code",
   "execution_count": null,
   "metadata": {},
   "outputs": [],
   "source": [
    "import pandas as pd\n",
    "\n",
    "\n",
    "Files = ['Sheet1','Sheet2','Sheet3']\n",
    "\n",
    "FundName = ['HW Large Cap Core Value','HW Large Cap Core Value','HW Large Cap Core Value','HW Diversity Leaders','HW Dividend Growth',\n",
    "           'HW Large Cap Core','HW Large Cap Growth','HW Large Cap Leaders Tax Aware','HW Large Cap Leaders Tax Aware',\n",
    "           'HW Large Cap Leaders Tax Aware']\n",
    "\n",
    "FundID = ['HW Large Cap Core Value','HW Large Cap Core Value','HW Large Cap Core Value','HW Diversity Leaders','HW Dividend Growth',\n",
    "           'HW Large Cap Core','HW Large Cap Growth','HW Large Cap Leaders Tax Aware','HW Large Cap Leaders Tax Aware',\n",
    "           'HW Large Cap Leaders Tax Aware']\n",
    "\n",
    "Dates = ['1/31/2020','2/29/2020','3/31/2020','3/31/2020','1/31/2020','3/31/2020','3/31/2020','1/31/2020','2/29/2020','3/31/2020']\n",
    "\n",
    "a = len(Files)\n",
    "i = 0\n",
    "name = ['1','2','3']\n",
    "\n",
    "while i < a:\n",
    "    col_Names=['x','x','x','x','x','Holding Name','x','Shares','Market Value','x','x','x','x','x','x','x','Currency',\n",
    "           'Portfolio Price','Morningstar Price','x','x','x','x','Security ID','x','x']\n",
    "    x = pd.read_excel('C:/Users/zpasha/Desktop/HoldingsScript/H1.xlsx', sheet_name = Files[i],header=None,names=col_Names)\n",
    "    x['Fund Name'] = FundName[i]\n",
    "    x['Fund ID'] = FundID[i]\n",
    "    x['Portfolio Date'] = Dates[i]\n",
    "    x = x[['Fund ID','Fund Name','Portfolio Date','Security ID','Holding Name','Shares','Market Value','Currency','Portfolio Price','Morningstar Price']]\n",
    "    x.to_excel('C:/Users/zpasha/Desktop/HoldingsScript/Output/'+name[i]+'.xlsx',index = False)\n",
    "    i = i + 1\n"
   ]
  }
 ],
 "metadata": {
  "kernelspec": {
   "display_name": "Python 3",
   "language": "python",
   "name": "python3"
  },
  "language_info": {
   "codemirror_mode": {
    "name": "ipython",
    "version": 3
   },
   "file_extension": ".py",
   "mimetype": "text/x-python",
   "name": "python",
   "nbconvert_exporter": "python",
   "pygments_lexer": "ipython3",
   "version": "3.7.6"
  }
 },
 "nbformat": 4,
 "nbformat_minor": 4
}
