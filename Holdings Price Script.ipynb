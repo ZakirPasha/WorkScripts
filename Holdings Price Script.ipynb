{
 "cells": [
  {
   "cell_type": "markdown",
   "metadata": {},
   "source": [
    "<h2> The code below takes a excel file with multiple sheets of data from PDM and creates a price table similiar to what Shenzhen attaches on tickets. The inputs are all given below. **Order is very important**. The Files, FundName, FundID, and Dates must all match up 1:1 </h2>"
   ]
  },
  {
   "cell_type": "code",
   "execution_count": 1,
   "metadata": {},
   "outputs": [],
   "source": [
    "import pandas as pd\n",
    "\n",
    "\n",
    "Files = ['Sheet1','Sheet2','Sheet3']\n",
    "\n",
    "FundName = ['HW Large Cap Core Value','HW Large Cap Core Value','HW Large Cap Core Value','HW Diversity Leaders','HW Dividend Growth',\n",
    "           'HW Large Cap Core','HW Large Cap Growth','HW Large Cap Leaders Tax Aware','HW Large Cap Leaders Tax Aware',\n",
    "           'HW Large Cap Leaders Tax Aware']\n",
    "\n",
    "FundID = ['HW Large Cap Core Value','HW Large Cap Core Value','HW Large Cap Core Value','HW Diversity Leaders','HW Dividend Growth',\n",
    "           'HW Large Cap Core','HW Large Cap Growth','HW Large Cap Leaders Tax Aware','HW Large Cap Leaders Tax Aware',\n",
    "           'HW Large Cap Leaders Tax Aware']\n",
    "\n",
    "Dates = ['1/31/2020','2/29/2020','3/31/2020','3/31/2020','1/31/2020','3/31/2020','3/31/2020','1/31/2020','2/29/2020','3/31/2020']\n",
    "\n",
    "a = len(Files)\n",
    "i = 0\n",
    "name = ['1','2','3']\n",
    "\n",
    "while i < a:\n",
    "    col_Names=['x','x','x','x','x','Holding Name','x','Shares','Market Value','x','x','x','x','x','x','x','Currency',\n",
    "           'Portfolio Price','Morningstar Price','x','x','x','x','Security ID','x','x']\n",
    "    x = pd.read_excel('C:/Users/zpasha/Desktop/HoldingsScript/H1.xlsx', sheet_name = Files[i],header=None,names=col_Names)\n",
    "    x['Fund Name'] = FundName[i]\n",
    "    x['Fund ID'] = FundID[i]\n",
    "    x['Portfolio Date'] = Dates[i]\n",
    "    x = x[['Fund ID','Fund Name','Portfolio Date','Security ID','Holding Name','Shares','Market Value','Currency','Portfolio Price','Morningstar Price']]\n",
    "    x.to_excel('C:/Users/zpasha/Desktop/HoldingsScript/Output/'+name[i]+'.xlsx',index = False)\n",
    "    i = i + 1\n"
   ]
  },
  {
   "cell_type": "markdown",
   "metadata": {},
   "source": [
    "<h2> The code below asks the **user** to input important aspects of creating the file. A excel file with multiple sheets is needed, but then the code can be ran and information can be filled out as the user is getting asked </h2>"
   ]
  },
  {
   "cell_type": "code",
   "execution_count": 2,
   "metadata": {},
   "outputs": [
    {
     "name": "stdin",
     "output_type": "stream",
     "text": [
      "How many sheets did you create? 2\n",
      "Type in the name of fund 1 on Sheet1 ZakirFund1\n",
      "Type in the name of fund 2 on Sheet2 ZakirFund2\n",
      "Type in the FundID of ZakirFund1 on Sheet1 123\n",
      "Type in the FundID of ZakirFund2 on Sheet2 456\n",
      "Type in the missing portfolio date for ZakirFund1 (MM/DD/YYY format) 06/30/2020\n",
      "Type in the missing portfolio date for ZakirFund2 (MM/DD/YYY format) 06/30/2020\n"
     ]
    }
   ],
   "source": [
    "import pandas as pd\n",
    "#Asking how many funds aka sheets\n",
    "question = input(\"How many sheets did you create?\")\n",
    "question = int(question)\n",
    "i = 0\n",
    "sheetnames = []\n",
    "\n",
    "while i < question:\n",
    "    x = 'Sheet'\n",
    "    aaa = 1 + i\n",
    "    aaa = str(aaa)\n",
    "    final = x + aaa\n",
    "    sheetnames.append(final)\n",
    "    i = i + 1\n",
    "    \n",
    "\n",
    "#Fund Name Input\n",
    "n = 0 \n",
    "title = 0 \n",
    "fundcount = 1\n",
    "Fundz = []\n",
    "\n",
    "while n < len(sheetnames):\n",
    "    fundcount = str(fundcount)\n",
    "    fundnames = input('Type in the name of fund '+ fundcount +' on Sheet'+fundcount)\n",
    "    Fundz.append(fundnames)\n",
    "    fundcount = int(fundcount)\n",
    "    fundcount = fundcount + 1\n",
    "    n = n + 1\n",
    "    \n",
    "f = 0\n",
    "titleoffund = 0\n",
    "idcount = 1\n",
    "fundid = []\n",
    "while f < len(sheetnames):\n",
    "    idcount = str(idcount)\n",
    "    fundids = input('Type in the FundID of '+ Fundz[f] +' on Sheet'+idcount)\n",
    "    fundid.append(fundids)\n",
    "    idcount = int(idcount)\n",
    "    idcount = idcount + 1\n",
    "    f = f + 1\n",
    "    \n",
    "d = 0\n",
    "datecountforsheet = 1\n",
    "dates = []\n",
    "while d < len(sheetnames):\n",
    "    datecountforsheet = str(datecountforsheet)\n",
    "    missingport = input('Type in the missing portfolio date for '+ Fundz[d]+' (MM/DD/YYY format)' )\n",
    "    dates.append(missingport)\n",
    "    datecountforsheet = int(datecountforsheet)\n",
    "    datecountforsheet = datecountforsheet + 1\n",
    "    d = d + 1\n",
    "    \n",
    "a = len(Fundz)\n",
    "i = 0\n",
    "name = ['1','2','3','4','5','6','7','8','9','10']\n",
    "\n",
    "while i < a:\n",
    "    col_Names=['x','x','x','x','x','Holding Name','x','Shares','Market Value','x','x','x','x','x','x','x','Currency',\n",
    "           'Portfolio Price','Morningstar Price','x','x','x','x','Security ID','x','x']\n",
    "    x = pd.read_excel('C:/Users/zpasha/Desktop/HoldingsScript/H1.xlsx', sheet_name = sheetnames[i],header=None,names=col_Names)\n",
    "    x['Fund Name'] = Fundz[i]\n",
    "    x['Fund ID'] = fundid[i]\n",
    "    x['Portfolio Date'] = dates[i]\n",
    "    x = x[['Fund ID','Fund Name','Portfolio Date','Security ID','Holding Name','Shares','Market Value','Currency','Portfolio Price','Morningstar Price']]\n",
    "    x.to_excel('C:/Users/zpasha/Desktop/HoldingsScript/Output/'+Fundz[i]+'.xlsx',index = False)\n",
    "    i = i + 1\n"
   ]
  },
  {
   "cell_type": "code",
   "execution_count": null,
   "metadata": {},
   "outputs": [],
   "source": []
  },
  {
   "cell_type": "code",
   "execution_count": null,
   "metadata": {},
   "outputs": [],
   "source": []
  }
 ],
 "metadata": {
  "kernelspec": {
   "display_name": "Python 3",
   "language": "python",
   "name": "python3"
  },
  "language_info": {
   "codemirror_mode": {
    "name": "ipython",
    "version": 3
   },
   "file_extension": ".py",
   "mimetype": "text/x-python",
   "name": "python",
   "nbconvert_exporter": "python",
   "pygments_lexer": "ipython3",
   "version": "3.7.6"
  }
 },
 "nbformat": 4,
 "nbformat_minor": 4
}
